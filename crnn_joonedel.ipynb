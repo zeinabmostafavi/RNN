{
  "nbformat": 4,
  "nbformat_minor": 0,
  "metadata": {
    "colab": {
      "name": "crnn_joonedel.ipynb",
      "provenance": []
    },
    "kernelspec": {
      "name": "python3",
      "display_name": "Python 3"
    },
    "language_info": {
      "name": "python"
    },
    "accelerator": "GPU"
  },
  "cells": [
    {
      "cell_type": "code",
      "execution_count": 1,
      "metadata": {
        "id": "6734drDw3OJO"
      },
      "outputs": [],
      "source": [
        "from google.colab.patches import cv2_imshow\n",
        "import matplotlib.pyplot as plt\n",
        "import numpy as np\n",
        "import random\n",
        "from sklearn.model_selection import train_test_split\n",
        "import tensorflow as tf\n",
        "import cv2\n",
        "import os\n",
        "from tensorflow.keras.layers import Conv2D ,MaxPooling2D,SimpleRNN,GRU,LSTM,Dense,Flatten,TimeDistributed"
      ]
    },
    {
      "cell_type": "code",
      "source": [
        "frame_w= 50\n",
        "frame_h= 50"
      ],
      "metadata": {
        "id": "E1CRQE5h40u0"
      },
      "execution_count": 2,
      "outputs": []
    },
    {
      "cell_type": "markdown",
      "source": [
        "Dataset"
      ],
      "metadata": {
        "id": "1D8Mw2vKLyjx"
      }
    },
    {
      "cell_type": "code",
      "source": [
        "path = \"/content/drive/MyDrive/joon_del/\"\n",
        "dirs = os.listdir(path)\n",
        "Dataset=[]\n",
        "label=[]\n",
        "for dir in dirs:\n",
        "  subfolder = f\"/content/drive/MyDrive/joon_del/{dir}\"\n",
        "  dataset = os.listdir(subfolder)\n",
        "  for j in dataset:\n",
        "    cap = cv2.VideoCapture(f'/content/drive/MyDrive/joon_del/{dir}/{j}')\n",
        "    video=[]\n",
        "    while(True):\n",
        "      ret, frame = cap.read()\n",
        "      if ret == False:\n",
        "          break\n",
        "      frame = cv2.cvtColor(frame, cv2.COLOR_BGR2RGB)\n",
        "      img = cv2.resize(frame, dsize=(frame_w, frame_h))\n",
        "      img = img / 255.\n",
        "      video.append(img)\n",
        "    Dataset.append(video)\n",
        "    label.append(float(dir))"
      ],
      "metadata": {
        "id": "5OdaOiB440wX"
      },
      "execution_count": 3,
      "outputs": []
    },
    {
      "cell_type": "code",
      "source": [
        "list = max(len(j) for j in Dataset)\n",
        "for i, j in enumerate(Dataset):\n",
        "  if len (j) < list:\n",
        "    for j in range(list-len(j)):\n",
        "      Dataset[i].append(np.zeros((frame_w, frame_h, 3)))"
      ],
      "metadata": {
        "id": "M7X4NA9I41Ge"
      },
      "execution_count": 4,
      "outputs": []
    },
    {
      "cell_type": "code",
      "source": [
        "newdata = np.array(Dataset)\n",
        "label = np.array(label)\n",
        "label = label[..., np.newaxis]\n",
        "X_train, X_test, y_train, y_test = train_test_split(newdata, label, test_size=0.2, random_state=42)"
      ],
      "metadata": {
        "id": "lczDBLbCHRTn"
      },
      "execution_count": 5,
      "outputs": []
    },
    {
      "cell_type": "code",
      "source": [
        "model_crnn = tf.keras.models.Sequential([\n",
        "                  # CNN\n",
        "                  TimeDistributed(Conv2D(64, (3, 3), activation=\"relu\", input_shape=(None, frame_w,frame_h, 3))),\n",
        "                  TimeDistributed(Conv2D(32, (3, 3), activation=\"relu\", input_shape=(None, frame_w,frame_h, 3))),\n",
        "                  TimeDistributed(Conv2D(16, (3, 3), activation=\"relu\", input_shape=(None, frame_w,frame_h, 3))),\n",
        "                  TimeDistributed(MaxPooling2D(pool_size=(2, 2))),\n",
        "\n",
        "                  TimeDistributed(Flatten()),\n",
        "                  # RNN\n",
        "                  SimpleRNN(50, return_sequences=True),\n",
        "                  SimpleRNN(20),\n",
        "                  Dense(2, activation=\"softmax\")\n",
        "])"
      ],
      "metadata": {
        "id": "F9tdfS8GHH3P"
      },
      "execution_count": 6,
      "outputs": []
    },
    {
      "cell_type": "code",
      "source": [
        "model_crnn.compile(optimizer=tf.keras.optimizers.Adam(),\n",
        "              loss=tf.keras.losses.sparse_categorical_crossentropy,\n",
        "              metrics=[\"accuracy\"])\n",
        "\n",
        "model_crnn.fit(X_train, y_train, batch_size=8, epochs=20)"
      ],
      "metadata": {
        "colab": {
          "base_uri": "https://localhost:8080/"
        },
        "id": "KzV0MzdoHHqR",
        "outputId": "80a0f096-05ea-4963-98e3-2e3e01341b9f"
      },
      "execution_count": 7,
      "outputs": [
        {
          "output_type": "stream",
          "name": "stdout",
          "text": [
            "Epoch 1/20\n",
            "7/7 [==============================] - 30s 2s/step - loss: 0.7317 - accuracy: 0.5179\n",
            "Epoch 2/20\n",
            "7/7 [==============================] - 12s 2s/step - loss: 0.7406 - accuracy: 0.5357\n",
            "Epoch 3/20\n",
            "7/7 [==============================] - 13s 2s/step - loss: 0.6989 - accuracy: 0.4464\n",
            "Epoch 4/20\n",
            "7/7 [==============================] - 12s 2s/step - loss: 0.6828 - accuracy: 0.5000\n",
            "Epoch 5/20\n",
            "7/7 [==============================] - 12s 2s/step - loss: 0.6723 - accuracy: 0.5357\n",
            "Epoch 6/20\n",
            "7/7 [==============================] - 12s 2s/step - loss: 0.6748 - accuracy: 0.5536\n",
            "Epoch 7/20\n",
            "7/7 [==============================] - 12s 2s/step - loss: 0.6687 - accuracy: 0.5536\n",
            "Epoch 8/20\n",
            "7/7 [==============================] - 12s 2s/step - loss: 0.6793 - accuracy: 0.5000\n",
            "Epoch 9/20\n",
            "7/7 [==============================] - 12s 2s/step - loss: 0.6802 - accuracy: 0.5536\n",
            "Epoch 10/20\n",
            "7/7 [==============================] - 12s 2s/step - loss: 0.6884 - accuracy: 0.5179\n",
            "Epoch 11/20\n",
            "7/7 [==============================] - 12s 2s/step - loss: 0.6756 - accuracy: 0.5536\n",
            "Epoch 12/20\n",
            "7/7 [==============================] - 12s 2s/step - loss: 0.6738 - accuracy: 0.5357\n",
            "Epoch 13/20\n",
            "7/7 [==============================] - 12s 2s/step - loss: 0.6706 - accuracy: 0.5357\n",
            "Epoch 14/20\n",
            "7/7 [==============================] - 12s 2s/step - loss: 0.6736 - accuracy: 0.5536\n",
            "Epoch 15/20\n",
            "7/7 [==============================] - 12s 2s/step - loss: 0.6703 - accuracy: 0.5536\n",
            "Epoch 16/20\n",
            "7/7 [==============================] - 12s 2s/step - loss: 0.6698 - accuracy: 0.5536\n",
            "Epoch 17/20\n",
            "7/7 [==============================] - 12s 2s/step - loss: 0.6722 - accuracy: 0.5536\n",
            "Epoch 18/20\n",
            "7/7 [==============================] - 12s 2s/step - loss: 0.6673 - accuracy: 0.5357\n",
            "Epoch 19/20\n",
            "7/7 [==============================] - 12s 2s/step - loss: 0.6714 - accuracy: 0.5714\n",
            "Epoch 20/20\n",
            "7/7 [==============================] - 12s 2s/step - loss: 0.6692 - accuracy: 0.5536\n"
          ]
        },
        {
          "output_type": "execute_result",
          "data": {
            "text/plain": [
              "<keras.callbacks.History at 0x7fa940373a90>"
            ]
          },
          "metadata": {},
          "execution_count": 7
        }
      ]
    },
    {
      "cell_type": "code",
      "source": [
        "model_crnn.evaluate(X_test, y_test)"
      ],
      "metadata": {
        "colab": {
          "base_uri": "https://localhost:8080/"
        },
        "id": "i5gU6M7lHHbM",
        "outputId": "2283f95d-098a-41bd-e488-9768ad3cc914"
      },
      "execution_count": 8,
      "outputs": [
        {
          "output_type": "stream",
          "name": "stdout",
          "text": [
            "1/1 [==============================] - 7s 7s/step - loss: 0.7277 - accuracy: 0.2857\n"
          ]
        },
        {
          "output_type": "execute_result",
          "data": {
            "text/plain": [
              "[0.7277035117149353, 0.2857142984867096]"
            ]
          },
          "metadata": {},
          "execution_count": 8
        }
      ]
    },
    {
      "cell_type": "code",
      "source": [
        ""
      ],
      "metadata": {
        "id": "6j-DtvC9HHXn"
      },
      "execution_count": null,
      "outputs": []
    },
    {
      "cell_type": "code",
      "source": [
        ""
      ],
      "metadata": {
        "id": "hEt-rILMNYWb"
      },
      "execution_count": null,
      "outputs": []
    },
    {
      "cell_type": "code",
      "source": [
        ""
      ],
      "metadata": {
        "id": "NTObHS1BNYQT"
      },
      "execution_count": null,
      "outputs": []
    },
    {
      "cell_type": "code",
      "source": [
        ""
      ],
      "metadata": {
        "id": "lmy4ZZ_hNYMH"
      },
      "execution_count": null,
      "outputs": []
    }
  ]
}